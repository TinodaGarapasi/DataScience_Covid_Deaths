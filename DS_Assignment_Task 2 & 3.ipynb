{
 "cells": [
  {
   "cell_type": "markdown",
   "metadata": {},
   "source": [
    "# Task 2 Data Cleaning & Analysis"
   ]
  },
  {
   "cell_type": "code",
   "execution_count": 1662,
   "metadata": {},
   "outputs": [],
   "source": [
    "import json, requests, urllib\n",
    "from pathlib import Path\n",
    "from datetime import datetime\n",
    "import pandas as pd\n",
    "from sodapy import Socrata\n",
    "import matplotlib\n",
    "import matplotlib.pyplot as plt\n",
    "%matplotlib inline\n",
    "import time\n",
    "import os \n",
    "from pandas.plotting import scatter_matrix\n",
    "import seaborn as sns"
   ]
  },
  {
   "cell_type": "code",
   "execution_count": 1663,
   "metadata": {},
   "outputs": [],
   "source": [
    "# directory for raw data storage\n",
    "dir_raw = Path(\"raw_contents\")\n",
    "# directory for storing uncleaned, unprocessed but merged JSON files\n",
    "dir_merge = Path(\"merged_files\")\n",
    "# make sure it exists\n",
    "dir_merge.mkdir(parents=True, exist_ok=True)\n",
    "# directory for storing cleaned, pre-processed dataframe\n",
    "dir_pickle = Path(\"pickled\")\n",
    "# make sure it exists\n",
    "dir_pickle.mkdir(parents=True, exist_ok=True)"
   ]
  },
  {
   "cell_type": "markdown",
   "metadata": {},
   "source": [
    "# Data Pre-processing\n",
    "\n",
    "Before analysing the data, we need to first merge all the downloaded JSON file sinto a single file. Here we create a function for that purpose. \n",
    "\n",
    "- The function reads the files in the dir_raw directory using os.listdir, passes each file to a load function of JSON which then converts the JSON document to a python dictionary.  This is then added to an array merge_json and then extended to append the rest of the files.\n",
    "\n",
    "- The length of the merge_json dict array is read to verify the change.\n",
    "\n",
    "- We then dump the extended dictionary using JSON and save it in the directory dir_merge.  The filename is passed via the parameter just to give us freedom to change the name in case we deal with a different dataset."
   ]
  },
  {
   "cell_type": "code",
   "execution_count": 1664,
   "metadata": {},
   "outputs": [],
   "source": [
    "def merge_files(combined_name):\n",
    "    merge_json = {}\n",
    "    for fname in os.listdir(dir_raw) :\n",
    "        covidset = json.load(open(dir_raw/fname))\n",
    "        #print(len(merge_json))\n",
    "        if len(merge_json) == 0 :\n",
    "            merge_json = covidset\n",
    "            #print(fname)\n",
    "        else:\n",
    "            merge_json.extend(covidset)\n",
    "            #print(len(covidset))\n",
    "    print(len(merge_json))\n",
    "    filePath = dir_merge/combined_name\n",
    "    fileOut = open(filePath,'w')\n",
    "    json.dump(merge_json,fileOut)\n",
    "   \n",
    "\n"
   ]
  },
  {
   "cell_type": "markdown",
   "metadata": {},
   "source": [
    "Ww need to ensure that the files were successfully merged just as expectd, without missing or mis-aligned columns etc. To do this we define a function which takes the filename, loads it and returns a dataframe.  \n",
    "\n",
    "Notice that we explicitly passed the returned dataframe to a df variable.  This is essential to ensure that the appropriate dataframe is loaded otherwise a dataframe in the current object cycle will be output."
   ]
  },
  {
   "cell_type": "code",
   "execution_count": 1665,
   "metadata": {},
   "outputs": [],
   "source": [
    "def test_merged_set(fname):\n",
    "    covidset = json.load(open(dir_merge/fname))\n",
    "    df = pd.DataFrame(covidset)\n",
    "    return df"
   ]
  },
  {
   "cell_type": "code",
   "execution_count": 1666,
   "metadata": {},
   "outputs": [
    {
     "name": "stdout",
     "output_type": "stream",
     "text": [
      "8316\n"
     ]
    }
   ],
   "source": [
    "combined_name = 'joinedCovidset'\n",
    "merge_files(combined_name)\n",
    "df = test_merged_set(combined_name)\n",
    "#df\n"
   ]
  },
  {
   "cell_type": "markdown",
   "metadata": {},
   "source": [
    "We list all columns in the dataframe and note down all columns we wish to drop. We also rename the long feature name 'pneumonia_and_covid_19_deaths' to 'pneumonia_covid_19_deaths' and drop the feature names below as they have no bearing to the analysis later. \n",
    "\n",
    "We again explicitly pass the result to the df variable and print it out to ensure the resulting dataframe is as expected. "
   ]
  },
  {
   "cell_type": "code",
   "execution_count": 1667,
   "metadata": {},
   "outputs": [
    {
     "data": {
      "text/plain": [
       "['data_as_of',\n",
       " 'start_date',\n",
       " 'end_date',\n",
       " 'group',\n",
       " 'year',\n",
       " 'state',\n",
       " 'sex',\n",
       " 'age_group',\n",
       " 'covid_19_deaths',\n",
       " 'total_deaths',\n",
       " 'pneumonia_deaths',\n",
       " 'pneumonia_and_covid_19_deaths',\n",
       " 'pneumonia_influenza_or_covid',\n",
       " 'footnote',\n",
       " 'influenza_deaths']"
      ]
     },
     "execution_count": 1667,
     "metadata": {},
     "output_type": "execute_result"
    }
   ],
   "source": [
    "list(df.columns)\n"
   ]
  },
  {
   "cell_type": "code",
   "execution_count": 1668,
   "metadata": {
    "scrolled": true
   },
   "outputs": [
    {
     "data": {
      "text/html": [
       "<div>\n",
       "<style scoped>\n",
       "    .dataframe tbody tr th:only-of-type {\n",
       "        vertical-align: middle;\n",
       "    }\n",
       "\n",
       "    .dataframe tbody tr th {\n",
       "        vertical-align: top;\n",
       "    }\n",
       "\n",
       "    .dataframe thead th {\n",
       "        text-align: right;\n",
       "    }\n",
       "</style>\n",
       "<table border=\"1\" class=\"dataframe\">\n",
       "  <thead>\n",
       "    <tr style=\"text-align: right;\">\n",
       "      <th></th>\n",
       "      <th>year</th>\n",
       "      <th>state</th>\n",
       "      <th>sex</th>\n",
       "      <th>age_group</th>\n",
       "      <th>covid_19_deaths</th>\n",
       "      <th>pneumonia_deaths</th>\n",
       "      <th>pneumonia_covid_19_deaths</th>\n",
       "      <th>influenza_deaths</th>\n",
       "    </tr>\n",
       "  </thead>\n",
       "  <tbody>\n",
       "    <tr>\n",
       "      <th>0</th>\n",
       "      <td>2020</td>\n",
       "      <td>Wyoming</td>\n",
       "      <td>Female</td>\n",
       "      <td>65-74 years</td>\n",
       "      <td>42</td>\n",
       "      <td>40</td>\n",
       "      <td>21</td>\n",
       "      <td>NaN</td>\n",
       "    </tr>\n",
       "    <tr>\n",
       "      <th>1</th>\n",
       "      <td>2020</td>\n",
       "      <td>Wyoming</td>\n",
       "      <td>Female</td>\n",
       "      <td>75-84 years</td>\n",
       "      <td>68</td>\n",
       "      <td>78</td>\n",
       "      <td>30</td>\n",
       "      <td>0</td>\n",
       "    </tr>\n",
       "    <tr>\n",
       "      <th>2</th>\n",
       "      <td>2020</td>\n",
       "      <td>Wyoming</td>\n",
       "      <td>Female</td>\n",
       "      <td>85 years and over</td>\n",
       "      <td>87</td>\n",
       "      <td>69</td>\n",
       "      <td>25</td>\n",
       "      <td>NaN</td>\n",
       "    </tr>\n",
       "    <tr>\n",
       "      <th>3</th>\n",
       "      <td>2020</td>\n",
       "      <td>Puerto Rico</td>\n",
       "      <td>All Sexes</td>\n",
       "      <td>All Ages</td>\n",
       "      <td>1629</td>\n",
       "      <td>4479</td>\n",
       "      <td>1094</td>\n",
       "      <td>97</td>\n",
       "    </tr>\n",
       "    <tr>\n",
       "      <th>4</th>\n",
       "      <td>2020</td>\n",
       "      <td>Puerto Rico</td>\n",
       "      <td>All Sexes</td>\n",
       "      <td>Under 1 year</td>\n",
       "      <td>0</td>\n",
       "      <td>NaN</td>\n",
       "      <td>0</td>\n",
       "      <td>0</td>\n",
       "    </tr>\n",
       "    <tr>\n",
       "      <th>...</th>\n",
       "      <td>...</td>\n",
       "      <td>...</td>\n",
       "      <td>...</td>\n",
       "      <td>...</td>\n",
       "      <td>...</td>\n",
       "      <td>...</td>\n",
       "      <td>...</td>\n",
       "      <td>...</td>\n",
       "    </tr>\n",
       "    <tr>\n",
       "      <th>8311</th>\n",
       "      <td>2023</td>\n",
       "      <td>Michigan</td>\n",
       "      <td>Female</td>\n",
       "      <td>55-64 years</td>\n",
       "      <td>35</td>\n",
       "      <td>74</td>\n",
       "      <td>15</td>\n",
       "      <td>NaN</td>\n",
       "    </tr>\n",
       "    <tr>\n",
       "      <th>8312</th>\n",
       "      <td>2023</td>\n",
       "      <td>Michigan</td>\n",
       "      <td>Female</td>\n",
       "      <td>65-74 years</td>\n",
       "      <td>65</td>\n",
       "      <td>117</td>\n",
       "      <td>17</td>\n",
       "      <td>16</td>\n",
       "    </tr>\n",
       "    <tr>\n",
       "      <th>8313</th>\n",
       "      <td>2023</td>\n",
       "      <td>Michigan</td>\n",
       "      <td>Female</td>\n",
       "      <td>75-84 years</td>\n",
       "      <td>113</td>\n",
       "      <td>161</td>\n",
       "      <td>32</td>\n",
       "      <td>21</td>\n",
       "    </tr>\n",
       "    <tr>\n",
       "      <th>8314</th>\n",
       "      <td>2023</td>\n",
       "      <td>Texas</td>\n",
       "      <td>All Sexes</td>\n",
       "      <td>All Ages</td>\n",
       "      <td>1685</td>\n",
       "      <td>2981</td>\n",
       "      <td>818</td>\n",
       "      <td>145</td>\n",
       "    </tr>\n",
       "    <tr>\n",
       "      <th>8315</th>\n",
       "      <td>2023</td>\n",
       "      <td>Colorado</td>\n",
       "      <td>All Sexes</td>\n",
       "      <td>All Ages</td>\n",
       "      <td>285</td>\n",
       "      <td>493</td>\n",
       "      <td>112</td>\n",
       "      <td>49</td>\n",
       "    </tr>\n",
       "  </tbody>\n",
       "</table>\n",
       "<p>8316 rows × 8 columns</p>\n",
       "</div>"
      ],
      "text/plain": [
       "      year        state        sex          age_group covid_19_deaths  \\\n",
       "0     2020      Wyoming     Female        65-74 years              42   \n",
       "1     2020      Wyoming     Female        75-84 years              68   \n",
       "2     2020      Wyoming     Female  85 years and over              87   \n",
       "3     2020  Puerto Rico  All Sexes           All Ages            1629   \n",
       "4     2020  Puerto Rico  All Sexes       Under 1 year               0   \n",
       "...    ...          ...        ...                ...             ...   \n",
       "8311  2023     Michigan     Female        55-64 years              35   \n",
       "8312  2023     Michigan     Female        65-74 years              65   \n",
       "8313  2023     Michigan     Female        75-84 years             113   \n",
       "8314  2023        Texas  All Sexes           All Ages            1685   \n",
       "8315  2023     Colorado  All Sexes           All Ages             285   \n",
       "\n",
       "     pneumonia_deaths pneumonia_covid_19_deaths influenza_deaths  \n",
       "0                  40                        21              NaN  \n",
       "1                  78                        30                0  \n",
       "2                  69                        25              NaN  \n",
       "3                4479                      1094               97  \n",
       "4                 NaN                         0                0  \n",
       "...               ...                       ...              ...  \n",
       "8311               74                        15              NaN  \n",
       "8312              117                        17               16  \n",
       "8313              161                        32               21  \n",
       "8314             2981                       818              145  \n",
       "8315              493                       112               49  \n",
       "\n",
       "[8316 rows x 8 columns]"
      ]
     },
     "execution_count": 1668,
     "metadata": {},
     "output_type": "execute_result"
    }
   ],
   "source": [
    "df = df.rename(columns={'pneumonia_and_covid_19_deaths':'pneumonia_covid_19_deaths'})\n",
    "drop_cols = ['data_as_of','start_date', 'end_date', 'pneumonia_influenza_or_covid','total_deaths','group','footnote',]\n",
    "df = df.drop(drop_cols, axis=1)\n",
    "df"
   ]
  },
  {
   "cell_type": "markdown",
   "metadata": {},
   "source": [
    "## More Dropping Operations\n",
    "\n",
    "We drop all rows that have a negative impact on our analysis.   These rows are all entries where the 'sex' feature is 'All sexes' and where 'age_group' is 'All ages' and where 'state' is 'United States'. These rows are originally group by an aggregate sum of each category and this is  a problem later on when we have to do normalisation or calculate mean values and other arithmetic operations. \n",
    "\n",
    "We also remove all rows were 'state' is 'Puerto Rico'.  We are only interested in analytics for the 50 states of the United States of America.  We pass this to the df variable and print it out to ensure we get the expected dataframe. At this point the dataframe shape should have changed and we cna note that it has been reduced by almost 50%, that is, from 8316 rows to 4997 rows."
   ]
  },
  {
   "cell_type": "code",
   "execution_count": 1669,
   "metadata": {},
   "outputs": [
    {
     "data": {
      "text/html": [
       "<div>\n",
       "<style scoped>\n",
       "    .dataframe tbody tr th:only-of-type {\n",
       "        vertical-align: middle;\n",
       "    }\n",
       "\n",
       "    .dataframe tbody tr th {\n",
       "        vertical-align: top;\n",
       "    }\n",
       "\n",
       "    .dataframe thead th {\n",
       "        text-align: right;\n",
       "    }\n",
       "</style>\n",
       "<table border=\"1\" class=\"dataframe\">\n",
       "  <thead>\n",
       "    <tr style=\"text-align: right;\">\n",
       "      <th></th>\n",
       "      <th>year</th>\n",
       "      <th>state</th>\n",
       "      <th>sex</th>\n",
       "      <th>age_group</th>\n",
       "      <th>covid_19_deaths</th>\n",
       "      <th>pneumonia_deaths</th>\n",
       "      <th>pneumonia_covid_19_deaths</th>\n",
       "      <th>influenza_deaths</th>\n",
       "    </tr>\n",
       "  </thead>\n",
       "  <tbody>\n",
       "    <tr>\n",
       "      <th>0</th>\n",
       "      <td>2020</td>\n",
       "      <td>Wyoming</td>\n",
       "      <td>Female</td>\n",
       "      <td>65-74 years</td>\n",
       "      <td>42</td>\n",
       "      <td>40</td>\n",
       "      <td>21</td>\n",
       "      <td>NaN</td>\n",
       "    </tr>\n",
       "    <tr>\n",
       "      <th>1</th>\n",
       "      <td>2020</td>\n",
       "      <td>Wyoming</td>\n",
       "      <td>Female</td>\n",
       "      <td>75-84 years</td>\n",
       "      <td>68</td>\n",
       "      <td>78</td>\n",
       "      <td>30</td>\n",
       "      <td>0</td>\n",
       "    </tr>\n",
       "    <tr>\n",
       "      <th>2</th>\n",
       "      <td>2020</td>\n",
       "      <td>Wyoming</td>\n",
       "      <td>Female</td>\n",
       "      <td>85 years and over</td>\n",
       "      <td>87</td>\n",
       "      <td>69</td>\n",
       "      <td>25</td>\n",
       "      <td>NaN</td>\n",
       "    </tr>\n",
       "    <tr>\n",
       "      <th>123</th>\n",
       "      <td>2021</td>\n",
       "      <td>Alabama</td>\n",
       "      <td>Male</td>\n",
       "      <td>Under 1 year</td>\n",
       "      <td>NaN</td>\n",
       "      <td>NaN</td>\n",
       "      <td>NaN</td>\n",
       "      <td>0</td>\n",
       "    </tr>\n",
       "    <tr>\n",
       "      <th>124</th>\n",
       "      <td>2021</td>\n",
       "      <td>Alabama</td>\n",
       "      <td>Male</td>\n",
       "      <td>0-17 years</td>\n",
       "      <td>NaN</td>\n",
       "      <td>NaN</td>\n",
       "      <td>NaN</td>\n",
       "      <td>0</td>\n",
       "    </tr>\n",
       "    <tr>\n",
       "      <th>...</th>\n",
       "      <td>...</td>\n",
       "      <td>...</td>\n",
       "      <td>...</td>\n",
       "      <td>...</td>\n",
       "      <td>...</td>\n",
       "      <td>...</td>\n",
       "      <td>...</td>\n",
       "      <td>...</td>\n",
       "    </tr>\n",
       "    <tr>\n",
       "      <th>8309</th>\n",
       "      <td>2023</td>\n",
       "      <td>Michigan</td>\n",
       "      <td>Female</td>\n",
       "      <td>45-54 years</td>\n",
       "      <td>NaN</td>\n",
       "      <td>12</td>\n",
       "      <td>NaN</td>\n",
       "      <td>NaN</td>\n",
       "    </tr>\n",
       "    <tr>\n",
       "      <th>8310</th>\n",
       "      <td>2023</td>\n",
       "      <td>Michigan</td>\n",
       "      <td>Female</td>\n",
       "      <td>50-64 years</td>\n",
       "      <td>38</td>\n",
       "      <td>77</td>\n",
       "      <td>15</td>\n",
       "      <td>11</td>\n",
       "    </tr>\n",
       "    <tr>\n",
       "      <th>8311</th>\n",
       "      <td>2023</td>\n",
       "      <td>Michigan</td>\n",
       "      <td>Female</td>\n",
       "      <td>55-64 years</td>\n",
       "      <td>35</td>\n",
       "      <td>74</td>\n",
       "      <td>15</td>\n",
       "      <td>NaN</td>\n",
       "    </tr>\n",
       "    <tr>\n",
       "      <th>8312</th>\n",
       "      <td>2023</td>\n",
       "      <td>Michigan</td>\n",
       "      <td>Female</td>\n",
       "      <td>65-74 years</td>\n",
       "      <td>65</td>\n",
       "      <td>117</td>\n",
       "      <td>17</td>\n",
       "      <td>16</td>\n",
       "    </tr>\n",
       "    <tr>\n",
       "      <th>8313</th>\n",
       "      <td>2023</td>\n",
       "      <td>Michigan</td>\n",
       "      <td>Female</td>\n",
       "      <td>75-84 years</td>\n",
       "      <td>113</td>\n",
       "      <td>161</td>\n",
       "      <td>32</td>\n",
       "      <td>21</td>\n",
       "    </tr>\n",
       "  </tbody>\n",
       "</table>\n",
       "<p>4997 rows × 8 columns</p>\n",
       "</div>"
      ],
      "text/plain": [
       "      year     state     sex          age_group covid_19_deaths  \\\n",
       "0     2020   Wyoming  Female        65-74 years              42   \n",
       "1     2020   Wyoming  Female        75-84 years              68   \n",
       "2     2020   Wyoming  Female  85 years and over              87   \n",
       "123   2021   Alabama    Male       Under 1 year             NaN   \n",
       "124   2021   Alabama    Male         0-17 years             NaN   \n",
       "...    ...       ...     ...                ...             ...   \n",
       "8309  2023  Michigan  Female        45-54 years             NaN   \n",
       "8310  2023  Michigan  Female        50-64 years              38   \n",
       "8311  2023  Michigan  Female        55-64 years              35   \n",
       "8312  2023  Michigan  Female        65-74 years              65   \n",
       "8313  2023  Michigan  Female        75-84 years             113   \n",
       "\n",
       "     pneumonia_deaths pneumonia_covid_19_deaths influenza_deaths  \n",
       "0                  40                        21              NaN  \n",
       "1                  78                        30                0  \n",
       "2                  69                        25              NaN  \n",
       "123               NaN                       NaN                0  \n",
       "124               NaN                       NaN                0  \n",
       "...               ...                       ...              ...  \n",
       "8309               12                       NaN              NaN  \n",
       "8310               77                        15               11  \n",
       "8311               74                        15              NaN  \n",
       "8312              117                        17               16  \n",
       "8313              161                        32               21  \n",
       "\n",
       "[4997 rows x 8 columns]"
      ]
     },
     "execution_count": 1669,
     "metadata": {},
     "output_type": "execute_result"
    }
   ],
   "source": [
    "df = df.drop(df[(df['sex']=='All Sexes') | (df['age_group']=='All Ages') | (df['state']=='Puerto Rico') | (df['state']=='United States')].index)\n",
    "df"
   ]
  },
  {
   "cell_type": "markdown",
   "metadata": {},
   "source": [
    "### Data Types Verification\n",
    "we verify the data types of our features.  This is very crucial since not having a clear picture of data type sin the dataset might affect our analysis later on. Here we notice that our data types in all the features are of object type.  We will need to change this. "
   ]
  },
  {
   "cell_type": "code",
   "execution_count": 1670,
   "metadata": {},
   "outputs": [
    {
     "data": {
      "text/plain": [
       "year                         object\n",
       "state                        object\n",
       "sex                          object\n",
       "age_group                    object\n",
       "covid_19_deaths              object\n",
       "pneumonia_deaths             object\n",
       "pneumonia_covid_19_deaths    object\n",
       "influenza_deaths             object\n",
       "dtype: object"
      ]
     },
     "execution_count": 1670,
     "metadata": {},
     "output_type": "execute_result"
    }
   ],
   "source": [
    "df.dtypes"
   ]
  },
  {
   "cell_type": "markdown",
   "metadata": {},
   "source": [
    "### Check for Null Values\n",
    "\n",
    "We run the isnull() function and check for features with nulll values. At this point we convert values in all numeric features to numeric and set error to 'coerce'.  What this accomplishes is that every NaN object found gets converted to a float NaN.  This is what we need to do in preparation for a decision to fill the null values either with a mean value or a 0. We do this by defining the fill_null_values function.  \n",
    "\n",
    "Its worth mentioning that here the decision was made to fill the NaN indexes with a mean value, but the decision was later reversed since doing so skewed the total numbers of important features like covid deaths, pneumonia deaths, etc.  So it was settled to fill the Nan indexes with 0s.  On testing this gave reasonable figures of the feature totals.\n",
    "\n",
    "After calling the function werun again the isnull function to verify that all null indexes have been dealt with. "
   ]
  },
  {
   "cell_type": "code",
   "execution_count": 1671,
   "metadata": {},
   "outputs": [
    {
     "data": {
      "text/plain": [
       "year                            0\n",
       "state                           0\n",
       "sex                             0\n",
       "age_group                       0\n",
       "covid_19_deaths              1364\n",
       "pneumonia_deaths             1478\n",
       "pneumonia_covid_19_deaths    1304\n",
       "influenza_deaths             2019\n",
       "dtype: int64"
      ]
     },
     "execution_count": 1671,
     "metadata": {},
     "output_type": "execute_result"
    }
   ],
   "source": [
    "df.isnull().sum()"
   ]
  },
  {
   "cell_type": "code",
   "execution_count": 1672,
   "metadata": {},
   "outputs": [],
   "source": [
    "def fill_null_values():\n",
    "    cols = ['influenza_deaths', 'pneumonia_deaths','covid_19_deaths','pneumonia_covid_19_deaths']\n",
    "    for col in cols:\n",
    "        df[col] = pd.to_numeric(df[col],errors='coerce')\n",
    "        df[col] = df[col].fillna(0)\n",
    "    "
   ]
  },
  {
   "cell_type": "code",
   "execution_count": 1673,
   "metadata": {},
   "outputs": [
    {
     "data": {
      "text/plain": [
       "year                         0\n",
       "state                        0\n",
       "sex                          0\n",
       "age_group                    0\n",
       "covid_19_deaths              0\n",
       "pneumonia_deaths             0\n",
       "pneumonia_covid_19_deaths    0\n",
       "influenza_deaths             0\n",
       "dtype: int64"
      ]
     },
     "execution_count": 1673,
     "metadata": {},
     "output_type": "execute_result"
    }
   ],
   "source": [
    "fill_null_values()\n",
    "df.isnull().sum()"
   ]
  },
  {
   "cell_type": "markdown",
   "metadata": {},
   "source": [
    "### Another Check  On Data Types & Convert\n",
    "We run df.types function again to verify the data types.  We create a function change_dtypes and decleare group features according to their values in an array.\n",
    "\n",
    "We run a for loops which converts the data types to string and some to integer as shown below. We then call again the df.dtypes function to verify that our data types have been casted."
   ]
  },
  {
   "cell_type": "code",
   "execution_count": 1674,
   "metadata": {},
   "outputs": [
    {
     "data": {
      "text/plain": [
       "year                          object\n",
       "state                         object\n",
       "sex                           object\n",
       "age_group                     object\n",
       "covid_19_deaths              float64\n",
       "pneumonia_deaths             float64\n",
       "pneumonia_covid_19_deaths    float64\n",
       "influenza_deaths             float64\n",
       "dtype: object"
      ]
     },
     "execution_count": 1674,
     "metadata": {},
     "output_type": "execute_result"
    }
   ],
   "source": [
    "df.dtypes"
   ]
  },
  {
   "cell_type": "code",
   "execution_count": 1675,
   "metadata": {},
   "outputs": [],
   "source": [
    "def change_dtypes():\n",
    "    str_cols = ['sex','state','age_group']\n",
    "    int_cols = ['covid_19_deaths','pneumonia_deaths','pneumonia_covid_19_deaths','influenza_deaths']\n",
    "\n",
    "    for col in int_cols:\n",
    "        df[col]= df[col].astype(int)\n",
    "    \n",
    "    for col in str_cols:\n",
    "        df[col]= df[col].astype('string')\n",
    "    \n"
   ]
  },
  {
   "cell_type": "code",
   "execution_count": 1676,
   "metadata": {},
   "outputs": [
    {
     "data": {
      "text/plain": [
       "year                         object\n",
       "state                        string\n",
       "sex                          string\n",
       "age_group                    string\n",
       "covid_19_deaths               int32\n",
       "pneumonia_deaths              int32\n",
       "pneumonia_covid_19_deaths     int32\n",
       "influenza_deaths              int32\n",
       "dtype: object"
      ]
     },
     "execution_count": 1676,
     "metadata": {},
     "output_type": "execute_result"
    }
   ],
   "source": [
    "change_dtypes()\n",
    "df.dtypes"
   ]
  },
  {
   "cell_type": "markdown",
   "metadata": {},
   "source": [
    "### Data Sanitisation\n",
    "\n",
    "The feature age_group is a categorical variable and as such it needs special attention just to make the values uniform. We run the function unique to have a pick at the values.  We then sanitise the feature by using the strip and replace functions to make each value as brief as possible for later analysis.  We strip 'years' and shorten '85 years and over' to '85 - over'.\n",
    "\n",
    "Finally we run the unique function once more to check that all is as we expect ad also print the entire dataframe to verify."
   ]
  },
  {
   "cell_type": "code",
   "execution_count": 1677,
   "metadata": {},
   "outputs": [
    {
     "data": {
      "text/plain": [
       "<StringArray>\n",
       "[      '65-74 years',       '75-84 years', '85 years and over',\n",
       "      'Under 1 year',        '0-17 years',         '1-4 years',\n",
       "        '5-14 years',       '15-24 years',       '18-29 years',\n",
       "       '25-34 years',       '30-39 years',       '35-44 years',\n",
       "       '40-49 years',       '45-54 years',       '50-64 years',\n",
       "       '55-64 years']\n",
       "Length: 16, dtype: string"
      ]
     },
     "execution_count": 1677,
     "metadata": {},
     "output_type": "execute_result"
    }
   ],
   "source": [
    "df['age_group'].unique()"
   ]
  },
  {
   "cell_type": "code",
   "execution_count": 1678,
   "metadata": {},
   "outputs": [],
   "source": [
    "def sanitise_age():\n",
    "    df['age_group'] = df['age_group'].str.strip('years and over') \n",
    "    df['age_group'] = df['age_group'].str.replace('85','85-Over')\n",
    "    \n"
   ]
  },
  {
   "cell_type": "code",
   "execution_count": 1679,
   "metadata": {},
   "outputs": [],
   "source": [
    "sanitise_age()"
   ]
  },
  {
   "cell_type": "code",
   "execution_count": 1680,
   "metadata": {},
   "outputs": [
    {
     "data": {
      "text/plain": [
       "<StringArray>\n",
       "[  '65-74',   '75-84', '85-Over', 'Under 1',    '0-17',     '1-4',    '5-14',\n",
       "   '15-24',   '18-29',   '25-34',   '30-39',   '35-44',   '40-49',   '45-54',\n",
       "   '50-64',   '55-64']\n",
       "Length: 16, dtype: string"
      ]
     },
     "execution_count": 1680,
     "metadata": {},
     "output_type": "execute_result"
    }
   ],
   "source": [
    "df['age_group'].unique()"
   ]
  },
  {
   "cell_type": "code",
   "execution_count": 1681,
   "metadata": {},
   "outputs": [
    {
     "data": {
      "text/html": [
       "<div>\n",
       "<style scoped>\n",
       "    .dataframe tbody tr th:only-of-type {\n",
       "        vertical-align: middle;\n",
       "    }\n",
       "\n",
       "    .dataframe tbody tr th {\n",
       "        vertical-align: top;\n",
       "    }\n",
       "\n",
       "    .dataframe thead th {\n",
       "        text-align: right;\n",
       "    }\n",
       "</style>\n",
       "<table border=\"1\" class=\"dataframe\">\n",
       "  <thead>\n",
       "    <tr style=\"text-align: right;\">\n",
       "      <th></th>\n",
       "      <th>year</th>\n",
       "      <th>state</th>\n",
       "      <th>sex</th>\n",
       "      <th>age_group</th>\n",
       "      <th>covid_19_deaths</th>\n",
       "      <th>pneumonia_deaths</th>\n",
       "      <th>pneumonia_covid_19_deaths</th>\n",
       "      <th>influenza_deaths</th>\n",
       "    </tr>\n",
       "  </thead>\n",
       "  <tbody>\n",
       "    <tr>\n",
       "      <th>0</th>\n",
       "      <td>2020</td>\n",
       "      <td>Wyoming</td>\n",
       "      <td>Female</td>\n",
       "      <td>65-74</td>\n",
       "      <td>42</td>\n",
       "      <td>40</td>\n",
       "      <td>21</td>\n",
       "      <td>0</td>\n",
       "    </tr>\n",
       "    <tr>\n",
       "      <th>1</th>\n",
       "      <td>2020</td>\n",
       "      <td>Wyoming</td>\n",
       "      <td>Female</td>\n",
       "      <td>75-84</td>\n",
       "      <td>68</td>\n",
       "      <td>78</td>\n",
       "      <td>30</td>\n",
       "      <td>0</td>\n",
       "    </tr>\n",
       "    <tr>\n",
       "      <th>2</th>\n",
       "      <td>2020</td>\n",
       "      <td>Wyoming</td>\n",
       "      <td>Female</td>\n",
       "      <td>85-Over</td>\n",
       "      <td>87</td>\n",
       "      <td>69</td>\n",
       "      <td>25</td>\n",
       "      <td>0</td>\n",
       "    </tr>\n",
       "    <tr>\n",
       "      <th>123</th>\n",
       "      <td>2021</td>\n",
       "      <td>Alabama</td>\n",
       "      <td>Male</td>\n",
       "      <td>Under 1</td>\n",
       "      <td>0</td>\n",
       "      <td>0</td>\n",
       "      <td>0</td>\n",
       "      <td>0</td>\n",
       "    </tr>\n",
       "    <tr>\n",
       "      <th>124</th>\n",
       "      <td>2021</td>\n",
       "      <td>Alabama</td>\n",
       "      <td>Male</td>\n",
       "      <td>0-17</td>\n",
       "      <td>0</td>\n",
       "      <td>0</td>\n",
       "      <td>0</td>\n",
       "      <td>0</td>\n",
       "    </tr>\n",
       "    <tr>\n",
       "      <th>...</th>\n",
       "      <td>...</td>\n",
       "      <td>...</td>\n",
       "      <td>...</td>\n",
       "      <td>...</td>\n",
       "      <td>...</td>\n",
       "      <td>...</td>\n",
       "      <td>...</td>\n",
       "      <td>...</td>\n",
       "    </tr>\n",
       "    <tr>\n",
       "      <th>8309</th>\n",
       "      <td>2023</td>\n",
       "      <td>Michigan</td>\n",
       "      <td>Female</td>\n",
       "      <td>45-54</td>\n",
       "      <td>0</td>\n",
       "      <td>12</td>\n",
       "      <td>0</td>\n",
       "      <td>0</td>\n",
       "    </tr>\n",
       "    <tr>\n",
       "      <th>8310</th>\n",
       "      <td>2023</td>\n",
       "      <td>Michigan</td>\n",
       "      <td>Female</td>\n",
       "      <td>50-64</td>\n",
       "      <td>38</td>\n",
       "      <td>77</td>\n",
       "      <td>15</td>\n",
       "      <td>11</td>\n",
       "    </tr>\n",
       "    <tr>\n",
       "      <th>8311</th>\n",
       "      <td>2023</td>\n",
       "      <td>Michigan</td>\n",
       "      <td>Female</td>\n",
       "      <td>55-64</td>\n",
       "      <td>35</td>\n",
       "      <td>74</td>\n",
       "      <td>15</td>\n",
       "      <td>0</td>\n",
       "    </tr>\n",
       "    <tr>\n",
       "      <th>8312</th>\n",
       "      <td>2023</td>\n",
       "      <td>Michigan</td>\n",
       "      <td>Female</td>\n",
       "      <td>65-74</td>\n",
       "      <td>65</td>\n",
       "      <td>117</td>\n",
       "      <td>17</td>\n",
       "      <td>16</td>\n",
       "    </tr>\n",
       "    <tr>\n",
       "      <th>8313</th>\n",
       "      <td>2023</td>\n",
       "      <td>Michigan</td>\n",
       "      <td>Female</td>\n",
       "      <td>75-84</td>\n",
       "      <td>113</td>\n",
       "      <td>161</td>\n",
       "      <td>32</td>\n",
       "      <td>21</td>\n",
       "    </tr>\n",
       "  </tbody>\n",
       "</table>\n",
       "<p>4997 rows × 8 columns</p>\n",
       "</div>"
      ],
      "text/plain": [
       "      year     state     sex age_group  covid_19_deaths  pneumonia_deaths  \\\n",
       "0     2020   Wyoming  Female     65-74               42                40   \n",
       "1     2020   Wyoming  Female     75-84               68                78   \n",
       "2     2020   Wyoming  Female   85-Over               87                69   \n",
       "123   2021   Alabama    Male   Under 1                0                 0   \n",
       "124   2021   Alabama    Male      0-17                0                 0   \n",
       "...    ...       ...     ...       ...              ...               ...   \n",
       "8309  2023  Michigan  Female     45-54                0                12   \n",
       "8310  2023  Michigan  Female     50-64               38                77   \n",
       "8311  2023  Michigan  Female     55-64               35                74   \n",
       "8312  2023  Michigan  Female     65-74               65               117   \n",
       "8313  2023  Michigan  Female     75-84              113               161   \n",
       "\n",
       "      pneumonia_covid_19_deaths  influenza_deaths  \n",
       "0                            21                 0  \n",
       "1                            30                 0  \n",
       "2                            25                 0  \n",
       "123                           0                 0  \n",
       "124                           0                 0  \n",
       "...                         ...               ...  \n",
       "8309                          0                 0  \n",
       "8310                         15                11  \n",
       "8311                         15                 0  \n",
       "8312                         17                16  \n",
       "8313                         32                21  \n",
       "\n",
       "[4997 rows x 8 columns]"
      ]
     },
     "execution_count": 1681,
     "metadata": {},
     "output_type": "execute_result"
    }
   ],
   "source": [
    "#df.to_csv('joinedCovidset.csv')  this is for testing purposes.\n",
    "df"
   ]
  },
  {
   "cell_type": "code",
   "execution_count": 1682,
   "metadata": {},
   "outputs": [
    {
     "data": {
      "text/plain": [
       "925965"
      ]
     },
     "execution_count": 1682,
     "metadata": {},
     "output_type": "execute_result"
    }
   ],
   "source": [
    "df['covid_19_deaths'].sum()"
   ]
  },
  {
   "cell_type": "markdown",
   "metadata": {},
   "source": [
    "# Data Normalisation\n",
    "\n",
    "We use the min-max normalisation on numeric features to a common scale ensuring we do not distort diffirences in the ranges of values.  Note that the feature 'influenza_deaths' does not necessarily need to be normalises since most values are sort of in a common scale.  However normalisation was done on them since we will do plots later on comparing this feature with other normalised features. "
   ]
  },
  {
   "cell_type": "code",
   "execution_count": 1683,
   "metadata": {},
   "outputs": [],
   "source": [
    "def min_max_norm():\n",
    "    cols = ['pneumonia_deaths','covid_19_deaths','pneumonia_covid_19_deaths','influenza_deaths']\n",
    "\n",
    "    for col in cols:\n",
    "        covid_min = df[col].min()\n",
    "        covid_max = df[col].max()\n",
    "        df[col] = (df[col]-covid_min)/(covid_max-covid_min)\n",
    "    return df\n"
   ]
  },
  {
   "cell_type": "code",
   "execution_count": 1684,
   "metadata": {},
   "outputs": [
    {
     "data": {
      "text/html": [
       "<div>\n",
       "<style scoped>\n",
       "    .dataframe tbody tr th:only-of-type {\n",
       "        vertical-align: middle;\n",
       "    }\n",
       "\n",
       "    .dataframe tbody tr th {\n",
       "        vertical-align: top;\n",
       "    }\n",
       "\n",
       "    .dataframe thead th {\n",
       "        text-align: right;\n",
       "    }\n",
       "</style>\n",
       "<table border=\"1\" class=\"dataframe\">\n",
       "  <thead>\n",
       "    <tr style=\"text-align: right;\">\n",
       "      <th></th>\n",
       "      <th>year</th>\n",
       "      <th>state</th>\n",
       "      <th>sex</th>\n",
       "      <th>age_group</th>\n",
       "      <th>covid_19_deaths</th>\n",
       "      <th>pneumonia_deaths</th>\n",
       "      <th>pneumonia_covid_19_deaths</th>\n",
       "      <th>influenza_deaths</th>\n",
       "    </tr>\n",
       "  </thead>\n",
       "  <tbody>\n",
       "    <tr>\n",
       "      <th>0</th>\n",
       "      <td>2020</td>\n",
       "      <td>Wyoming</td>\n",
       "      <td>Female</td>\n",
       "      <td>65-74</td>\n",
       "      <td>0.005321</td>\n",
       "      <td>0.005991</td>\n",
       "      <td>0.004232</td>\n",
       "      <td>0.000000</td>\n",
       "    </tr>\n",
       "    <tr>\n",
       "      <th>1</th>\n",
       "      <td>2020</td>\n",
       "      <td>Wyoming</td>\n",
       "      <td>Female</td>\n",
       "      <td>75-84</td>\n",
       "      <td>0.008615</td>\n",
       "      <td>0.011682</td>\n",
       "      <td>0.006046</td>\n",
       "      <td>0.000000</td>\n",
       "    </tr>\n",
       "    <tr>\n",
       "      <th>2</th>\n",
       "      <td>2020</td>\n",
       "      <td>Wyoming</td>\n",
       "      <td>Female</td>\n",
       "      <td>85-Over</td>\n",
       "      <td>0.011022</td>\n",
       "      <td>0.010334</td>\n",
       "      <td>0.005038</td>\n",
       "      <td>0.000000</td>\n",
       "    </tr>\n",
       "    <tr>\n",
       "      <th>123</th>\n",
       "      <td>2021</td>\n",
       "      <td>Alabama</td>\n",
       "      <td>Male</td>\n",
       "      <td>Under 1</td>\n",
       "      <td>0.000000</td>\n",
       "      <td>0.000000</td>\n",
       "      <td>0.000000</td>\n",
       "      <td>0.000000</td>\n",
       "    </tr>\n",
       "    <tr>\n",
       "      <th>124</th>\n",
       "      <td>2021</td>\n",
       "      <td>Alabama</td>\n",
       "      <td>Male</td>\n",
       "      <td>0-17</td>\n",
       "      <td>0.000000</td>\n",
       "      <td>0.000000</td>\n",
       "      <td>0.000000</td>\n",
       "      <td>0.000000</td>\n",
       "    </tr>\n",
       "    <tr>\n",
       "      <th>...</th>\n",
       "      <td>...</td>\n",
       "      <td>...</td>\n",
       "      <td>...</td>\n",
       "      <td>...</td>\n",
       "      <td>...</td>\n",
       "      <td>...</td>\n",
       "      <td>...</td>\n",
       "      <td>...</td>\n",
       "    </tr>\n",
       "    <tr>\n",
       "      <th>8309</th>\n",
       "      <td>2023</td>\n",
       "      <td>Michigan</td>\n",
       "      <td>Female</td>\n",
       "      <td>45-54</td>\n",
       "      <td>0.000000</td>\n",
       "      <td>0.001797</td>\n",
       "      <td>0.000000</td>\n",
       "      <td>0.000000</td>\n",
       "    </tr>\n",
       "    <tr>\n",
       "      <th>8310</th>\n",
       "      <td>2023</td>\n",
       "      <td>Michigan</td>\n",
       "      <td>Female</td>\n",
       "      <td>50-64</td>\n",
       "      <td>0.004814</td>\n",
       "      <td>0.011532</td>\n",
       "      <td>0.003023</td>\n",
       "      <td>0.085938</td>\n",
       "    </tr>\n",
       "    <tr>\n",
       "      <th>8311</th>\n",
       "      <td>2023</td>\n",
       "      <td>Michigan</td>\n",
       "      <td>Female</td>\n",
       "      <td>55-64</td>\n",
       "      <td>0.004434</td>\n",
       "      <td>0.011083</td>\n",
       "      <td>0.003023</td>\n",
       "      <td>0.000000</td>\n",
       "    </tr>\n",
       "    <tr>\n",
       "      <th>8312</th>\n",
       "      <td>2023</td>\n",
       "      <td>Michigan</td>\n",
       "      <td>Female</td>\n",
       "      <td>65-74</td>\n",
       "      <td>0.008235</td>\n",
       "      <td>0.017523</td>\n",
       "      <td>0.003426</td>\n",
       "      <td>0.125000</td>\n",
       "    </tr>\n",
       "    <tr>\n",
       "      <th>8313</th>\n",
       "      <td>2023</td>\n",
       "      <td>Michigan</td>\n",
       "      <td>Female</td>\n",
       "      <td>75-84</td>\n",
       "      <td>0.014316</td>\n",
       "      <td>0.024113</td>\n",
       "      <td>0.006449</td>\n",
       "      <td>0.164062</td>\n",
       "    </tr>\n",
       "  </tbody>\n",
       "</table>\n",
       "<p>4997 rows × 8 columns</p>\n",
       "</div>"
      ],
      "text/plain": [
       "      year     state     sex age_group  covid_19_deaths  pneumonia_deaths  \\\n",
       "0     2020   Wyoming  Female     65-74         0.005321          0.005991   \n",
       "1     2020   Wyoming  Female     75-84         0.008615          0.011682   \n",
       "2     2020   Wyoming  Female   85-Over         0.011022          0.010334   \n",
       "123   2021   Alabama    Male   Under 1         0.000000          0.000000   \n",
       "124   2021   Alabama    Male      0-17         0.000000          0.000000   \n",
       "...    ...       ...     ...       ...              ...               ...   \n",
       "8309  2023  Michigan  Female     45-54         0.000000          0.001797   \n",
       "8310  2023  Michigan  Female     50-64         0.004814          0.011532   \n",
       "8311  2023  Michigan  Female     55-64         0.004434          0.011083   \n",
       "8312  2023  Michigan  Female     65-74         0.008235          0.017523   \n",
       "8313  2023  Michigan  Female     75-84         0.014316          0.024113   \n",
       "\n",
       "      pneumonia_covid_19_deaths  influenza_deaths  \n",
       "0                      0.004232          0.000000  \n",
       "1                      0.006046          0.000000  \n",
       "2                      0.005038          0.000000  \n",
       "123                    0.000000          0.000000  \n",
       "124                    0.000000          0.000000  \n",
       "...                         ...               ...  \n",
       "8309                   0.000000          0.000000  \n",
       "8310                   0.003023          0.085938  \n",
       "8311                   0.003023          0.000000  \n",
       "8312                   0.003426          0.125000  \n",
       "8313                   0.006449          0.164062  \n",
       "\n",
       "[4997 rows x 8 columns]"
      ]
     },
     "execution_count": 1684,
     "metadata": {},
     "output_type": "execute_result"
    }
   ],
   "source": [
    "min_max_norm()"
   ]
  },
  {
   "cell_type": "markdown",
   "metadata": {},
   "source": [
    "## Data Pre-processing Saving  \n",
    "\n",
    "At this point we are almost done,we run a describe function to have a peep view at some important values derived from our dataframe such as standard deviation, mean, min, max, etc. \n",
    "\n",
    "Since we will be uploading the entire work on brightspace we then opt for serialising our dataframe to pickle which reduces the size instead of saving it as JSON or CSV file.   "
   ]
  },
  {
   "cell_type": "code",
   "execution_count": 1685,
   "metadata": {},
   "outputs": [
    {
     "data": {
      "text/html": [
       "<div>\n",
       "<style scoped>\n",
       "    .dataframe tbody tr th:only-of-type {\n",
       "        vertical-align: middle;\n",
       "    }\n",
       "\n",
       "    .dataframe tbody tr th {\n",
       "        vertical-align: top;\n",
       "    }\n",
       "\n",
       "    .dataframe thead th {\n",
       "        text-align: right;\n",
       "    }\n",
       "</style>\n",
       "<table border=\"1\" class=\"dataframe\">\n",
       "  <thead>\n",
       "    <tr style=\"text-align: right;\">\n",
       "      <th></th>\n",
       "      <th>covid_19_deaths</th>\n",
       "      <th>pneumonia_deaths</th>\n",
       "      <th>pneumonia_covid_19_deaths</th>\n",
       "      <th>influenza_deaths</th>\n",
       "    </tr>\n",
       "  </thead>\n",
       "  <tbody>\n",
       "    <tr>\n",
       "      <th>count</th>\n",
       "      <td>4997.000000</td>\n",
       "      <td>4997.000000</td>\n",
       "      <td>4997.000000</td>\n",
       "      <td>4997.000000</td>\n",
       "    </tr>\n",
       "    <tr>\n",
       "      <th>mean</th>\n",
       "      <td>0.023477</td>\n",
       "      <td>0.026688</td>\n",
       "      <td>0.019502</td>\n",
       "      <td>0.015778</td>\n",
       "    </tr>\n",
       "    <tr>\n",
       "      <th>std</th>\n",
       "      <td>0.067637</td>\n",
       "      <td>0.075621</td>\n",
       "      <td>0.063522</td>\n",
       "      <td>0.060300</td>\n",
       "    </tr>\n",
       "    <tr>\n",
       "      <th>min</th>\n",
       "      <td>0.000000</td>\n",
       "      <td>0.000000</td>\n",
       "      <td>0.000000</td>\n",
       "      <td>0.000000</td>\n",
       "    </tr>\n",
       "    <tr>\n",
       "      <th>25%</th>\n",
       "      <td>0.000000</td>\n",
       "      <td>0.000000</td>\n",
       "      <td>0.000000</td>\n",
       "      <td>0.000000</td>\n",
       "    </tr>\n",
       "    <tr>\n",
       "      <th>50%</th>\n",
       "      <td>0.001520</td>\n",
       "      <td>0.002247</td>\n",
       "      <td>0.000000</td>\n",
       "      <td>0.000000</td>\n",
       "    </tr>\n",
       "    <tr>\n",
       "      <th>75%</th>\n",
       "      <td>0.013176</td>\n",
       "      <td>0.016025</td>\n",
       "      <td>0.009472</td>\n",
       "      <td>0.000000</td>\n",
       "    </tr>\n",
       "    <tr>\n",
       "      <th>max</th>\n",
       "      <td>1.000000</td>\n",
       "      <td>1.000000</td>\n",
       "      <td>1.000000</td>\n",
       "      <td>1.000000</td>\n",
       "    </tr>\n",
       "  </tbody>\n",
       "</table>\n",
       "</div>"
      ],
      "text/plain": [
       "       covid_19_deaths  pneumonia_deaths  pneumonia_covid_19_deaths  \\\n",
       "count      4997.000000       4997.000000                4997.000000   \n",
       "mean          0.023477          0.026688                   0.019502   \n",
       "std           0.067637          0.075621                   0.063522   \n",
       "min           0.000000          0.000000                   0.000000   \n",
       "25%           0.000000          0.000000                   0.000000   \n",
       "50%           0.001520          0.002247                   0.000000   \n",
       "75%           0.013176          0.016025                   0.009472   \n",
       "max           1.000000          1.000000                   1.000000   \n",
       "\n",
       "       influenza_deaths  \n",
       "count       4997.000000  \n",
       "mean           0.015778  \n",
       "std            0.060300  \n",
       "min            0.000000  \n",
       "25%            0.000000  \n",
       "50%            0.000000  \n",
       "75%            0.000000  \n",
       "max            1.000000  "
      ]
     },
     "execution_count": 1685,
     "metadata": {},
     "output_type": "execute_result"
    }
   ],
   "source": [
    "df.describe()"
   ]
  },
  {
   "cell_type": "code",
   "execution_count": 1686,
   "metadata": {},
   "outputs": [],
   "source": [
    "df.to_pickle(dir_pickle/'pickled.pk1')"
   ]
  },
  {
   "cell_type": "markdown",
   "metadata": {},
   "source": [
    "# Data Analysis\n",
    "\n",
    "The first thing we do is to read our file using pickle and immediately print the df to verify that we have read the correct dataframe."
   ]
  },
  {
   "cell_type": "code",
   "execution_count": 1687,
   "metadata": {},
   "outputs": [
    {
     "data": {
      "text/html": [
       "<div>\n",
       "<style scoped>\n",
       "    .dataframe tbody tr th:only-of-type {\n",
       "        vertical-align: middle;\n",
       "    }\n",
       "\n",
       "    .dataframe tbody tr th {\n",
       "        vertical-align: top;\n",
       "    }\n",
       "\n",
       "    .dataframe thead th {\n",
       "        text-align: right;\n",
       "    }\n",
       "</style>\n",
       "<table border=\"1\" class=\"dataframe\">\n",
       "  <thead>\n",
       "    <tr style=\"text-align: right;\">\n",
       "      <th></th>\n",
       "      <th>year</th>\n",
       "      <th>state</th>\n",
       "      <th>sex</th>\n",
       "      <th>age_group</th>\n",
       "      <th>covid_19_deaths</th>\n",
       "      <th>pneumonia_deaths</th>\n",
       "      <th>pneumonia_covid_19_deaths</th>\n",
       "      <th>influenza_deaths</th>\n",
       "    </tr>\n",
       "  </thead>\n",
       "  <tbody>\n",
       "    <tr>\n",
       "      <th>0</th>\n",
       "      <td>2020</td>\n",
       "      <td>Wyoming</td>\n",
       "      <td>Female</td>\n",
       "      <td>65-74</td>\n",
       "      <td>0.005321</td>\n",
       "      <td>0.005991</td>\n",
       "      <td>0.004232</td>\n",
       "      <td>0.000000</td>\n",
       "    </tr>\n",
       "    <tr>\n",
       "      <th>1</th>\n",
       "      <td>2020</td>\n",
       "      <td>Wyoming</td>\n",
       "      <td>Female</td>\n",
       "      <td>75-84</td>\n",
       "      <td>0.008615</td>\n",
       "      <td>0.011682</td>\n",
       "      <td>0.006046</td>\n",
       "      <td>0.000000</td>\n",
       "    </tr>\n",
       "    <tr>\n",
       "      <th>2</th>\n",
       "      <td>2020</td>\n",
       "      <td>Wyoming</td>\n",
       "      <td>Female</td>\n",
       "      <td>85-Over</td>\n",
       "      <td>0.011022</td>\n",
       "      <td>0.010334</td>\n",
       "      <td>0.005038</td>\n",
       "      <td>0.000000</td>\n",
       "    </tr>\n",
       "    <tr>\n",
       "      <th>123</th>\n",
       "      <td>2021</td>\n",
       "      <td>Alabama</td>\n",
       "      <td>Male</td>\n",
       "      <td>Under 1</td>\n",
       "      <td>0.000000</td>\n",
       "      <td>0.000000</td>\n",
       "      <td>0.000000</td>\n",
       "      <td>0.000000</td>\n",
       "    </tr>\n",
       "    <tr>\n",
       "      <th>124</th>\n",
       "      <td>2021</td>\n",
       "      <td>Alabama</td>\n",
       "      <td>Male</td>\n",
       "      <td>0-17</td>\n",
       "      <td>0.000000</td>\n",
       "      <td>0.000000</td>\n",
       "      <td>0.000000</td>\n",
       "      <td>0.000000</td>\n",
       "    </tr>\n",
       "    <tr>\n",
       "      <th>...</th>\n",
       "      <td>...</td>\n",
       "      <td>...</td>\n",
       "      <td>...</td>\n",
       "      <td>...</td>\n",
       "      <td>...</td>\n",
       "      <td>...</td>\n",
       "      <td>...</td>\n",
       "      <td>...</td>\n",
       "    </tr>\n",
       "    <tr>\n",
       "      <th>8309</th>\n",
       "      <td>2023</td>\n",
       "      <td>Michigan</td>\n",
       "      <td>Female</td>\n",
       "      <td>45-54</td>\n",
       "      <td>0.000000</td>\n",
       "      <td>0.001797</td>\n",
       "      <td>0.000000</td>\n",
       "      <td>0.000000</td>\n",
       "    </tr>\n",
       "    <tr>\n",
       "      <th>8310</th>\n",
       "      <td>2023</td>\n",
       "      <td>Michigan</td>\n",
       "      <td>Female</td>\n",
       "      <td>50-64</td>\n",
       "      <td>0.004814</td>\n",
       "      <td>0.011532</td>\n",
       "      <td>0.003023</td>\n",
       "      <td>0.085938</td>\n",
       "    </tr>\n",
       "    <tr>\n",
       "      <th>8311</th>\n",
       "      <td>2023</td>\n",
       "      <td>Michigan</td>\n",
       "      <td>Female</td>\n",
       "      <td>55-64</td>\n",
       "      <td>0.004434</td>\n",
       "      <td>0.011083</td>\n",
       "      <td>0.003023</td>\n",
       "      <td>0.000000</td>\n",
       "    </tr>\n",
       "    <tr>\n",
       "      <th>8312</th>\n",
       "      <td>2023</td>\n",
       "      <td>Michigan</td>\n",
       "      <td>Female</td>\n",
       "      <td>65-74</td>\n",
       "      <td>0.008235</td>\n",
       "      <td>0.017523</td>\n",
       "      <td>0.003426</td>\n",
       "      <td>0.125000</td>\n",
       "    </tr>\n",
       "    <tr>\n",
       "      <th>8313</th>\n",
       "      <td>2023</td>\n",
       "      <td>Michigan</td>\n",
       "      <td>Female</td>\n",
       "      <td>75-84</td>\n",
       "      <td>0.014316</td>\n",
       "      <td>0.024113</td>\n",
       "      <td>0.006449</td>\n",
       "      <td>0.164062</td>\n",
       "    </tr>\n",
       "  </tbody>\n",
       "</table>\n",
       "<p>4997 rows × 8 columns</p>\n",
       "</div>"
      ],
      "text/plain": [
       "      year     state     sex age_group  covid_19_deaths  pneumonia_deaths  \\\n",
       "0     2020   Wyoming  Female     65-74         0.005321          0.005991   \n",
       "1     2020   Wyoming  Female     75-84         0.008615          0.011682   \n",
       "2     2020   Wyoming  Female   85-Over         0.011022          0.010334   \n",
       "123   2021   Alabama    Male   Under 1         0.000000          0.000000   \n",
       "124   2021   Alabama    Male      0-17         0.000000          0.000000   \n",
       "...    ...       ...     ...       ...              ...               ...   \n",
       "8309  2023  Michigan  Female     45-54         0.000000          0.001797   \n",
       "8310  2023  Michigan  Female     50-64         0.004814          0.011532   \n",
       "8311  2023  Michigan  Female     55-64         0.004434          0.011083   \n",
       "8312  2023  Michigan  Female     65-74         0.008235          0.017523   \n",
       "8313  2023  Michigan  Female     75-84         0.014316          0.024113   \n",
       "\n",
       "      pneumonia_covid_19_deaths  influenza_deaths  \n",
       "0                      0.004232          0.000000  \n",
       "1                      0.006046          0.000000  \n",
       "2                      0.005038          0.000000  \n",
       "123                    0.000000          0.000000  \n",
       "124                    0.000000          0.000000  \n",
       "...                         ...               ...  \n",
       "8309                   0.000000          0.000000  \n",
       "8310                   0.003023          0.085938  \n",
       "8311                   0.003023          0.000000  \n",
       "8312                   0.003426          0.125000  \n",
       "8313                   0.006449          0.164062  \n",
       "\n",
       "[4997 rows x 8 columns]"
      ]
     },
     "execution_count": 1687,
     "metadata": {},
     "output_type": "execute_result"
    }
   ],
   "source": [
    "df = pd.read_pickle(dir_pickle/'pickled.pk1')\n",
    "df"
   ]
  },
  {
   "cell_type": "markdown",
   "metadata": {},
   "source": [
    "## States with Highest Covid Deaths in 2021 &  2022"
   ]
  },
  {
   "cell_type": "code",
   "execution_count": 1688,
   "metadata": {},
   "outputs": [],
   "source": [
    "year_2021 = df[df['year']=='2021']\n",
    "state_grouped = year_2021.groupby('state')['covid_19_deaths'].sum().reset_index()\n",
    "top_5_2021 = state_grouped.sort_values('covid_19_deaths', ascending=False).head(5)\n",
    "\n",
    "year_2022 = df[df['year']=='2022']\n",
    "state_grouped = year_2022.groupby('state')['covid_19_deaths'].sum().reset_index()\n",
    "top_5_2022 = state_grouped.sort_values('covid_19_deaths', ascending=False).head(5)\n"
   ]
  },
  {
   "cell_type": "code",
   "execution_count": 1689,
   "metadata": {},
   "outputs": [
    {
     "data": {
      "image/png": "[encoded data removed]",
      "text/plain": [
       "<Figure size 864x432 with 2 Axes>"
      ]
     },
     "metadata": {
      "needs_background": "light"
     },
     "output_type": "display_data"
    }
   ],
   "source": [
    "fig, axs = plt.subplots(nrows=1, ncols=2, figsize=(12, 6))\n",
    "\n",
    "# First plot\n",
    "axs[0].bar(top_5_2021['state'], top_5_2021['covid_19_deaths'])\n",
    "axs[0].set_title('States with Highest COVID-19 Deaths in 2021')\n",
    "axs[0].set_xlabel('State')\n",
    "axs[0].set_ylabel('Number of Deaths')\n",
    "\n",
    "# Second plot\n",
    "axs[1].bar(top_5_2022['state'], top_5_2022['covid_19_deaths'])\n",
    "axs[1].set_title('States with Highest COVID-19 Deaths in 2022')\n",
    "axs[1].set_xlabel('State')\n",
    "axs[1].set_ylabel('Number of Deaths')\n",
    "\n",
    "plt.tight_layout()\n",
    "plt.show()\n"
   ]
  },
  {
   "cell_type": "markdown",
   "metadata": {},
   "source": [
    "We can see from the bar charts above that Texas, California, Florida, Ohio and Pennyslvania had the top 5 covid death rates in 2021.  Whereas California, Texas, Florida, Ohio and Pennsylvania were the top 5 with highest death rates in 2022."
   ]
  },
  {
   "cell_type": "markdown",
   "metadata": {},
   "source": [
    "## States with Highest Covid Deaths in 2023 &  Overall Combined 3 years"
   ]
  },
  {
   "cell_type": "code",
   "execution_count": 1690,
   "metadata": {},
   "outputs": [
    {
     "data": {
      "image/png": "[encoded data removed]",
      "text/plain": [
       "<Figure size 864x432 with 2 Axes>"
      ]
     },
     "metadata": {
      "needs_background": "light"
     },
     "output_type": "display_data"
    }
   ],
   "source": [
    "year_2023 = df[df['year']=='2023']\n",
    "state_grouped = year_2023.groupby('state')['covid_19_deaths'].sum().reset_index()\n",
    "top_5_2023 = state_grouped.sort_values('covid_19_deaths', ascending=False).head(5)\n",
    "\n",
    "overall = df.groupby('state')['covid_19_deaths'].sum().reset_index()\n",
    "overall = overall.sort_values('covid_19_deaths', ascending=False).head(5)\n",
    "\n",
    "fig, axs = plt.subplots(nrows=1, ncols=2, figsize=(12, 6))\n",
    "\n",
    "# First plot\n",
    "axs[0].bar(top_5_2023['state'], top_5_2023['covid_19_deaths'])\n",
    "axs[0].set_title('States with Highest COVID-19 Deaths in 2023')\n",
    "axs[0].set_xlabel('State')\n",
    "axs[0].set_ylabel('Number of Deaths')\n",
    "\n",
    "# Second plot\n",
    "axs[1].bar(overall['state'], overall['covid_19_deaths'])\n",
    "axs[1].set_title('States with combined Highest COVID-19 Deaths in 3 years')\n",
    "axs[1].set_xlabel('State')\n",
    "axs[1].set_ylabel('Number of Deaths')\n",
    "\n",
    "plt.tight_layout()\n",
    "plt.show()\n"
   ]
  },
  {
   "cell_type": "markdown",
   "metadata": {},
   "source": [
    "We can see from the bar charts above that in 2023 California, Ohio, Florida, Michigan and New York had the top 5 covid death.  Whereas California, Texas, Florida, Ohio and Pennsylvania were the top 5 with highest death rates in all years combined 2021,2022 and 2023."
   ]
  },
  {
   "cell_type": "markdown",
   "metadata": {},
   "source": [
    "## States with Lowest Covid Deaths in 2021 &  2022"
   ]
  },
  {
   "cell_type": "code",
   "execution_count": 1691,
   "metadata": {},
   "outputs": [
    {
     "data": {
      "image/png": "[encoded data removed]",
      "text/plain": [
       "<Figure size 1080x432 with 2 Axes>"
      ]
     },
     "metadata": {
      "needs_background": "light"
     },
     "output_type": "display_data"
    }
   ],
   "source": [
    "year_2021 = df[df['year']=='2021']\n",
    "low_5_2021 = year_2021.groupby('state')['covid_19_deaths'].sum().nsmallest(5).reset_index()\n",
    "low_5_2021 = low_5_2021.sort_values('covid_19_deaths', ascending=False).head()\n",
    "\n",
    "\n",
    "fig, axs = plt.subplots(nrows=1, ncols=2, figsize=(15, 6))\n",
    "\n",
    "# First plot\n",
    "axs[0].bar(low_5_2021['state'], low_5_2021 ['covid_19_deaths'])\n",
    "axs[0].set_title('States with Lowest COVID-19 Deaths in 2021')\n",
    "axs[0].set_xlabel('State')\n",
    "axs[0].set_ylabel('Number of Deaths')\n",
    "\n",
    "# Second plot\n",
    "year_2022 = df[df['year']=='2022']\n",
    "low_5_2022  = year_2022.groupby('state')['covid_19_deaths'].sum().nsmallest(5).reset_index()\n",
    "low_5_2022 = low_5_2022.sort_values('covid_19_deaths', ascending=False).head()\n",
    "axs[1].bar(low_5_2022['state'], low_5_2022['covid_19_deaths'])\n",
    "axs[1].set_title('States with Lowest COVID-19 Deaths in 2022')\n",
    "axs[1].set_xlabel('State')\n",
    "axs[1].set_ylabel('Number of Deaths')\n",
    "\n",
    "plt.tight_layout()\n",
    "plt.show()\n"
   ]
  },
  {
   "cell_type": "markdown",
   "metadata": {},
   "source": [
    "As we can see from the bar charts above, Wyoming, Alaska, Hawaii, DC as well as Vermont had the lowest covid death rates in 2021.  Whereas North Dakota, District of Columbia, Vermont State, Wyoming and Alaska had the lowest rates in 2022"
   ]
  },
  {
   "cell_type": "markdown",
   "metadata": {},
   "source": [
    "## States with Lowest Covid Deaths in 2023 &  Overall Combined 3 years"
   ]
  },
  {
   "cell_type": "code",
   "execution_count": 1692,
   "metadata": {},
   "outputs": [
    {
     "data": {
      "image/png": "[encoded data removed]",
      "text/plain": [
       "<Figure size 1080x432 with 2 Axes>"
      ]
     },
     "metadata": {
      "needs_background": "light"
     },
     "output_type": "display_data"
    }
   ],
   "source": [
    "year_2023 = df[df['year']=='2023']\n",
    "low_5_2023 = year_2023.groupby('state')['covid_19_deaths'].sum().nsmallest(5).reset_index()\n",
    "low_5_2023 = low_5_2023.sort_values('covid_19_deaths', ascending=False).head()\n",
    "\n",
    "\n",
    "fig, axs = plt.subplots(nrows=1, ncols=2, figsize=(15, 6))\n",
    "\n",
    "# First plot\n",
    "axs[0].bar(low_5_2023['state'], low_5_2023 ['covid_19_deaths'])\n",
    "axs[0].set_title('States with Lowest COVID-19 Deaths in 2023')\n",
    "axs[0].set_xlabel('State')\n",
    "axs[0].set_ylabel('Number of Deaths')\n",
    "\n",
    "# Second plot\n",
    "\n",
    "low_overall  = df.groupby('state')['covid_19_deaths'].sum().nsmallest(5).reset_index()\n",
    "low_overall = low_overall.sort_values('covid_19_deaths', ascending=False).head()\n",
    "axs[1].bar(low_overall['state'], low_overall['covid_19_deaths'])\n",
    "axs[1].set_title('States with Lowest COVID-19 Deaths in 3 years combined')\n",
    "axs[1].set_xlabel('State')\n",
    "axs[1].set_ylabel('Number of Deaths')\n",
    "\n",
    "plt.tight_layout()\n",
    "plt.show()"
   ]
  },
  {
   "cell_type": "markdown",
   "metadata": {},
   "source": [
    "As we can see from above bar charts, North Dakota, Utah, Hawai state, Alaska and District of columbia had the lowest death rates in 2023 whereas Hawaii, Wyoming, Alaska, Columbia nad Vermont had overall lowest death rates for all years combined."
   ]
  },
  {
   "cell_type": "markdown",
   "metadata": {},
   "source": [
    "## Scatter Plot of the relationship between covid, pneumonia & influenza deaths"
   ]
  },
  {
   "cell_type": "code",
   "execution_count": 1693,
   "metadata": {},
   "outputs": [
    {
     "data": {
      "image/png": "[encoded data removed]",
      "text/plain": [
       "<Figure size 720x360 with 2 Axes>"
      ]
     },
     "metadata": {
      "needs_background": "light"
     },
     "output_type": "display_data"
    }
   ],
   "source": [
    "fig, (t1, t2) = plt.subplots(1, 2, figsize=(10, 5))\n",
    "df.plot(kind='scatter',x='pneumonia_deaths',y='covid_19_deaths',ax=t1)\n",
    "t1.set_title('Covid 19 deaths & Pneumonia Deaths')\n",
    "\n",
    "df.plot(kind='scatter',x='influenza_deaths', y='covid_19_deaths',ax=t2)\n",
    "t2.set_title('Covid 19 deaths & Influenza Deaths')\n",
    "fig.subplots_adjust(wspace=1)\n",
    "plt.show()"
   ]
  },
  {
   "cell_type": "markdown",
   "metadata": {},
   "source": [
    "The scatter plots above show a linear relationship especially between pneumonia and covid 19 deaths.  It also makes sense why the number of all patients who had both pneumonia and covid is almost the same as the that of all patients with covid.  For influenza the relationship is somewhat skethcy as can be gleaned from the plot. "
   ]
  },
  {
   "cell_type": "markdown",
   "metadata": {},
   "source": [
    "## Scatter plot showing relationship between covid deaths and year.\n",
    "\n",
    "Its clear from the scatter plot that the year 2020 had the most covid deaths.  This is because this is the year when covid was at its pick.  In 2020 we have a very low value. Probably at this time the data was not yet generated since we only have 3 entires for the year 2020.  Also it makes sense since Covid started in February 2020 and most people were not affected in the united sates until later that year."
   ]
  },
  {
   "cell_type": "code",
   "execution_count": 1694,
   "metadata": {},
   "outputs": [
    {
     "data": {
      "text/plain": [
       "Text(0.5, 1.0, 'Relationship Between Year and Covid Deaths')"
      ]
     },
     "execution_count": 1694,
     "metadata": {},
     "output_type": "execute_result"
    },
    {
     "data": {
      "image/png": "[encoded data removed]",
      "text/plain": [
       "<Figure size 720x432 with 1 Axes>"
      ]
     },
     "metadata": {
      "needs_background": "light"
     },
     "output_type": "display_data"
    }
   ],
   "source": [
    "\n",
    "fig, t1 = plt.subplots(figsize=(10,6))\n",
    "df.plot(kind='scatter',y='covid_19_deaths',x='year',color='orange',ax=t1)\n",
    "t1.set_title('Relationship Between Year and Covid Deaths')\n",
    "\n"
   ]
  },
  {
   "cell_type": "markdown",
   "metadata": {},
   "source": [
    "## Histogram showing the death rates according to the bin age group\n",
    "\n",
    "This histogram below shows all age groups and how they were affected by covid.  Its clear that somewhere from 49 years and above were the most affected and thus record the highest death rates. At he same time we can observe that the younger generation were not that much affected and thusthe lower rates. \n",
    "\n",
    "By far the worst affected was the 64 years old group and above. \n"
   ]
  },
  {
   "cell_type": "code",
   "execution_count": 1695,
   "metadata": {},
   "outputs": [
    {
     "data": {
      "image/png": "[encoded data removed]",
      "text/plain": [
       "<Figure size 1080x504 with 1 Axes>"
      ]
     },
     "metadata": {
      "needs_background": "light"
     },
     "output_type": "display_data"
    }
   ],
   "source": [
    "age_group = df_age_deaths = df[['age_group', 'covid_19_deaths']]\n",
    "fig, t1 = plt.subplots(figsize=(15,7)) # set the figsize to (width, height)\n",
    "t1.hist(df_age_deaths['age_group'], bins=10, weights=df_age_deaths['covid_19_deaths'])\n",
    "t1.set_title('COVID-19 Deaths by Age Group')\n",
    "t1.set_ylabel('Number of Deaths')\n",
    "t1.set_xlabel('Age Group')\n",
    "plt.show()"
   ]
  },
  {
   "cell_type": "code",
   "execution_count": 1696,
   "metadata": {},
   "outputs": [
    {
     "data": {
      "image/png": "[encoded data removed]",
      "text/plain": [
       "<Figure size 864x360 with 2 Axes>"
      ]
     },
     "metadata": {
      "needs_background": "light"
     },
     "output_type": "display_data"
    }
   ],
   "source": [
    "top_5_age_groups = df.groupby('age_group')['covid_19_deaths'].sum().nlargest(5).reset_index()\n",
    "\n",
    "\n",
    "# Create figure with two subplots\n",
    "fig, axs = plt.subplots(1, 2, figsize=(12, 5))\n",
    "\n",
    "# Plot in the first subplot\n",
    "axs[0].plot(top_5_age_groups['age_group'], top_5_age_groups['covid_19_deaths'], marker='o')\n",
    "axs[0].set_title('Top 5 Age Groups with the Most COVID-19 Deaths')\n",
    "axs[0].set_xlabel('Age Group')\n",
    "axs[0].set_ylabel('Number of Deaths')\n",
    "\n",
    "# Plot in the second subplot\n",
    "low_5_age_groups = df.groupby('age_group')['covid_19_deaths'].sum().nsmallest(5).reset_index()\n",
    "axs[1].plot(low_5_age_groups['age_group'], low_5_age_groups['covid_19_deaths'], marker='o')\n",
    "axs[1].set_title('Lower 5 Age Groups with the Most COVID-19 Deaths')\n",
    "axs[1].set_xlabel('Age Group')\n",
    "axs[1].set_ylabel('Number of Deaths')\n",
    "\n",
    "# Display the plot\n",
    "plt.show()\n"
   ]
  },
  {
   "cell_type": "markdown",
   "metadata": {},
   "source": [
    "The two line graphs above show the top 5 age groups witht he most deaths from Covid as well as the lowest 5 age groups witht he lowest death rates. "
   ]
  },
  {
   "cell_type": "markdown",
   "metadata": {},
   "source": [
    "## Covid death rates by Gender\n",
    "\n",
    "We can observe from the bar chart below that the male gender was the most affected by covid. Probably because most men were out working or attending to emergencies.  Also men in general tend to spend less time at home than women and thus got in contact with people who were positive."
   ]
  },
  {
   "cell_type": "code",
   "execution_count": 1697,
   "metadata": {},
   "outputs": [
    {
     "data": {
      "image/png": "[encoded data removed]",
      "text/plain": [
       "<Figure size 432x288 with 1 Axes>"
      ]
     },
     "metadata": {
      "needs_background": "light"
     },
     "output_type": "display_data"
    }
   ],
   "source": [
    "deaths_by_sex = df.groupby('sex')['covid_19_deaths'].sum().reset_index()\n",
    "\n",
    "# Create bar plot\n",
    "plt.bar(deaths_by_sex['sex'], deaths_by_sex['covid_19_deaths'])\n",
    "plt.title('COVID-19 Deaths by Sex')\n",
    "plt.xlabel('Sex')\n",
    "plt.ylabel('Number of Deaths')\n",
    "plt.show()"
   ]
  },
  {
   "cell_type": "markdown",
   "metadata": {},
   "source": [
    "## Covid death rates by age group and gender\n",
    "\n",
    "Below analysis depicts death rates broken down by gender and age group"
   ]
  },
  {
   "cell_type": "code",
   "execution_count": 1698,
   "metadata": {},
   "outputs": [
    {
     "data": {
      "image/png": "[encoded data removed]",
      "text/plain": [
       "<Figure size 720x432 with 1 Axes>"
      ]
     },
     "metadata": {
      "needs_background": "light"
     },
     "output_type": "display_data"
    }
   ],
   "source": [
    "grouped_df = df.groupby(['age_group', 'sex'])['covid_19_deaths'].sum().reset_index()\n",
    "\n",
    "# Pivot the data to create a table with age groups as rows, sex as columns, and COVID-19 deaths as values\n",
    "pivoted_df = grouped_df.pivot(index='age_group', columns='sex', values='covid_19_deaths')\n",
    "\n",
    "# Plot a stacked bar chart\n",
    "fig, t1 = plt.subplots(figsize=(10, 6))\n",
    "pivoted_df.plot(kind='bar', stacked=True,ax=t1)\n",
    "plt.title('COVID-19 Deaths by Age Group and Sex')\n",
    "plt.xlabel('Age Group')\n",
    "plt.ylabel('Number of Deaths')\n",
    "plt.show()"
   ]
  },
  {
   "cell_type": "code",
   "execution_count": 1699,
   "metadata": {},
   "outputs": [
    {
     "data": {
      "image/png": "[encoded data removed]",
      "text/plain": [
       "<Figure size 720x576 with 2 Axes>"
      ]
     },
     "metadata": {
      "needs_background": "light"
     },
     "output_type": "display_data"
    }
   ],
   "source": [
    "corr_matrix = df.corr()\n",
    "fig, ax = plt.subplots(figsize=(10, 8))\n",
    "sns.heatmap(corr_matrix , annot=True, cmap='coolwarm', ax=ax)\n",
    "plt.title('Correlation Matrix')\n",
    "plt.show()"
   ]
  },
  {
   "cell_type": "markdown",
   "metadata": {},
   "source": [
    "Above is a correlation matrix of covid deaths together with influenza, pneumonia, pneumonia & covid deaths. We can see for example there is a higher correlation of 0.99 between pneumonia deaths and covid 19 deaths and a much lower correlation of 0.49 between pneumonia and infleunza.  From this we can conclude that anyone who got pneumonia during the pick of the pandemic hd a higher chance of catching covid and thus a higher chance of dying than a perosn who had influenza.  Inversely anyone who had covid had also a higher chance of getting pneumonia. "
   ]
  },
  {
   "cell_type": "markdown",
   "metadata": {},
   "source": [
    "# Task 3 - Discussion and Conclusions\n",
    "\n",
    "In this assignment, we looked at the detailed analysis of the United States Covid deaths by age, sex and state from the year 2020 till 2023. We saw a summary of the states which had the highest covid deaths and how each factor such as influenzaor pneumonia correlates with each covid death.\n",
    "\n",
    "Also we drew a summary of how each gender and age group was affected by covid and verified that men were the most affected and that those aged 65 and above had the highest death rates. \n",
    "\n",
    "More insights can still be derived such as the states  with the lowest cases of influenza and then plot an analysis on the covid death death rates. Further analysis can be figuring out the states with a high number of age groups from 65 and above and how that figure tallies into coivd deaths. Such ana analysis can be crucial in trying to learn more about conditions and resources in that states such as health care and make up of communities in general to have an insight into the broader plane on how best to handle future pandemics.\n"
   ]
  },
  {
   "cell_type": "markdown",
   "metadata": {},
   "source": [
    "The main challenges faced when collecting the data was the throttle time from the socrata server sincethe dataset I was looking at had 127 000 rows. It meant I could not test at will and at some point my ip address was suspended for a few couple hours as I kept making a lot of requests. \n",
    "\n",
    "Another challenge is that i spent a lot of time learning socrata SOSQl.  However it was helpful since it allowed me to be able to select only the rows of interest by passing arguments along the JSON url, thus allowing a possibility to do minimal data cleansing before download."
   ]
  },
  {
   "cell_type": "markdown",
   "metadata": {},
   "source": [
    "Attribution :  I used extensively the examples on Assignment specifications (a1-sample202223) and Data Science lessons from lectures  especially on plotting the graphs. "
   ]
  }
 ],
 "metadata": {
  "kernelspec": {
   "display_name": "Python 3 (ipykernel)",
   "language": "python",
   "name": "python3"
  },
  "language_info": {
   "codemirror_mode": {
    "name": "ipython",
    "version": 3
   },
   "file_extension": ".py",
   "mimetype": "text/x-python",
   "name": "python",
   "nbconvert_exporter": "python",
   "pygments_lexer": "ipython3",
   "version": "3.10.9"
  }
 },
 "nbformat": 4,
 "nbformat_minor": 4
}
